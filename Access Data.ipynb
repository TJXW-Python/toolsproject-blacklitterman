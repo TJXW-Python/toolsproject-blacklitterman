'''
Given a csv file of stock symbols and market caps, download stock data from Yahoo Finance and write to csv files.
This should not be run if user does not want to update the pool of assets!!!
'''

from pandas import *

from datetime import datetime
# terminal: $ pip install pandas-datareader
# or conda install -c anaconda pandas-datareader 
import pandas_datareader as pdr


# First we store 20 stock symbols in a file, then we can use 
# these functions to download data from yahoo finance.

# we store our data under a folder called 'data'
base = 'data/'
def write_csv_for_all_symbols(file):
    symbols, caps = load_symbols_and_caps(file)
    for s in symbols:
        write_csv_for_one_symbol(s)
        
def write_csv_for_one_symbol(symbol):    
    newfile = base + symbol + '.csv' # name csv file to hold data of the stock symbol given
    data = pdr.get_data_yahoo(symbols = symbol, start = datetime(2015, 1, 1), end = datetime(2018, 11, 1))
    data.to_csv(newfile, encoding='utf-8')
