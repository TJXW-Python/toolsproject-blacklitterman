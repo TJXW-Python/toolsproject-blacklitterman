from pandas import *

from datetime import datetime
# terminal: $ pip install pandas-datareader
# or conda install -c anaconda pandas-datareader 
import pandas_datareader as pdr

base = 'data/'
filename = base + 'SymbolsAndCaps.csv'

# Function loads stocks symbols and their market capitalizations, as of Nov 29, 2018
def load_symbols_and_caps(file):
    symbols_caps = pandas.read_csv(file, index_col = None) # symbols_caps is a pandas.dataframe
    symbols_caps.dropna(how = "all", inplace = True)
    symbols = list(symbols_caps['symbols'])
    caps = list(symbols_caps['caps'])
    return symbols, caps


# Functions download data given a file for stock symbols

def write_csv_for_all_symbols(file):
    symbols, caps = load_symbols_and_caps(file)
    for s in symbols:
        write_csv_for_one_symbol(s)
        
def write_csv_for_one_symbol(symbol):    
    newfile = base + symbol + '.csv' # name csv file to hold data of the stock symbol given
    data = pdr.get_data_yahoo(symbols = symbol, start = datetime(2015, 1, 1), end = datetime(2018, 11, 1))
    data.to_csv(newfile, encoding='utf-8')

write_csv_for_all_symbols(filename)
