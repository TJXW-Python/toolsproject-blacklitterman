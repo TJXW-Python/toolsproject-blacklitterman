from pandas import *

from datetime import datetime
# terminal: $ pip install pandas-datareader
# or conda install -c anaconda pandas-datareader 
import pandas_datareader as pdr


# Here we put the downloading data into the 'data' folder and store stock symbols in 'SymbolsAndCaps.csv'
base = 'data/'
filename = base + 'SymbolsAndCaps.csv'

# Function loads stocks symbols and their market capitalizations, as of Nov 29, 2018
def load_symbols_and_caps(file):
    symbols_caps = pandas.read_csv(file, index_col = None) # symbols_caps is a pandas.dataframe
    symbols_caps.dropna(how = "all", inplace = True)
    symbols = list(symbols_caps['symbols'])
    caps = list(symbols_caps['caps'])
    return symbols, caps


# These functions can download stock data and write files into the 'data' folder
# Users can use these functions to update stock data themselves.
# To do this, first, they should first delete the stock files in the 'data' folder;
# then they should put their stock symbols and caps in the 'SymbolsAndCaps.csv'
# after that they can update the stock data.

def write_csv_for_all_symbols(file):
    symbols, caps = load_symbols_and_caps(file)
    for s in symbols:
        write_csv_for_one_symbol(s)
        
def write_csv_for_one_symbol(symbol):    
    newfile = base + symbol + '.csv' # name csv file to hold data of the stock symbol given
    data = pdr.get_data_yahoo(symbols = symbol, start = datetime(2015, 1, 1), end = datetime(2018, 11, 1))
    data.to_csv(newfile, encoding='utf-8')

write_csv_for_all_symbols(filename)
